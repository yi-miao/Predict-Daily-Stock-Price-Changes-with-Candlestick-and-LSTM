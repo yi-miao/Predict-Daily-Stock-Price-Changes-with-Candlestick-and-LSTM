{
 "cells": [
  {
   "cell_type": "markdown",
   "id": "2c3c5c44",
   "metadata": {},
   "source": [
    "# Download Whole History of Stock as Base"
   ]
  },
  {
   "cell_type": "code",
   "execution_count": 1,
   "id": "da0fced7",
   "metadata": {},
   "outputs": [
    {
     "name": "stdout",
     "output_type": "stream",
     "text": [
      "[*********************100%***********************]  1 of 1 completed\n"
     ]
    },
    {
     "data": {
      "text/html": [
       "<div>\n",
       "<style scoped>\n",
       "    .dataframe tbody tr th:only-of-type {\n",
       "        vertical-align: middle;\n",
       "    }\n",
       "\n",
       "    .dataframe tbody tr th {\n",
       "        vertical-align: top;\n",
       "    }\n",
       "\n",
       "    .dataframe thead th {\n",
       "        text-align: right;\n",
       "    }\n",
       "</style>\n",
       "<table border=\"1\" class=\"dataframe\">\n",
       "  <thead>\n",
       "    <tr style=\"text-align: right;\">\n",
       "      <th></th>\n",
       "      <th>Open</th>\n",
       "      <th>High</th>\n",
       "      <th>Low</th>\n",
       "      <th>Close</th>\n",
       "      <th>Adj Close</th>\n",
       "      <th>Volume</th>\n",
       "    </tr>\n",
       "    <tr>\n",
       "      <th>Date</th>\n",
       "      <th></th>\n",
       "      <th></th>\n",
       "      <th></th>\n",
       "      <th></th>\n",
       "      <th></th>\n",
       "      <th></th>\n",
       "    </tr>\n",
       "  </thead>\n",
       "  <tbody>\n",
       "    <tr>\n",
       "      <th>2022-11-04</th>\n",
       "      <td>377.000000</td>\n",
       "      <td>378.869995</td>\n",
       "      <td>370.000000</td>\n",
       "      <td>376.350006</td>\n",
       "      <td>376.350006</td>\n",
       "      <td>103449600</td>\n",
       "    </tr>\n",
       "    <tr>\n",
       "      <th>2022-11-07</th>\n",
       "      <td>377.709991</td>\n",
       "      <td>380.570007</td>\n",
       "      <td>375.529999</td>\n",
       "      <td>379.950012</td>\n",
       "      <td>379.950012</td>\n",
       "      <td>68286900</td>\n",
       "    </tr>\n",
       "    <tr>\n",
       "      <th>2022-11-08</th>\n",
       "      <td>381.109985</td>\n",
       "      <td>385.119995</td>\n",
       "      <td>377.720001</td>\n",
       "      <td>382.000000</td>\n",
       "      <td>382.000000</td>\n",
       "      <td>84641100</td>\n",
       "    </tr>\n",
       "    <tr>\n",
       "      <th>2022-11-09</th>\n",
       "      <td>379.929993</td>\n",
       "      <td>381.140015</td>\n",
       "      <td>373.609985</td>\n",
       "      <td>374.130005</td>\n",
       "      <td>374.130005</td>\n",
       "      <td>78495500</td>\n",
       "    </tr>\n",
       "    <tr>\n",
       "      <th>2022-11-10</th>\n",
       "      <td>388.049988</td>\n",
       "      <td>395.040009</td>\n",
       "      <td>385.640015</td>\n",
       "      <td>394.690002</td>\n",
       "      <td>394.690002</td>\n",
       "      <td>141195500</td>\n",
       "    </tr>\n",
       "  </tbody>\n",
       "</table>\n",
       "</div>"
      ],
      "text/plain": [
       "                  Open        High         Low       Close   Adj Close  \\\n",
       "Date                                                                     \n",
       "2022-11-04  377.000000  378.869995  370.000000  376.350006  376.350006   \n",
       "2022-11-07  377.709991  380.570007  375.529999  379.950012  379.950012   \n",
       "2022-11-08  381.109985  385.119995  377.720001  382.000000  382.000000   \n",
       "2022-11-09  379.929993  381.140015  373.609985  374.130005  374.130005   \n",
       "2022-11-10  388.049988  395.040009  385.640015  394.690002  394.690002   \n",
       "\n",
       "               Volume  \n",
       "Date                   \n",
       "2022-11-04  103449600  \n",
       "2022-11-07   68286900  \n",
       "2022-11-08   84641100  \n",
       "2022-11-09   78495500  \n",
       "2022-11-10  141195500  "
      ]
     },
     "execution_count": 1,
     "metadata": {},
     "output_type": "execute_result"
    }
   ],
   "source": [
    "import yfinance as yf\n",
    "\n",
    "df = yf.download(\"SPY\", period=\"max\")\n",
    "df.to_pickle('stock_max.data')\n",
    "df.tail()"
   ]
  },
  {
   "cell_type": "markdown",
   "id": "51269321",
   "metadata": {},
   "source": [
    "# Merge Base with Most Recent Data, and Serialise It"
   ]
  },
  {
   "cell_type": "code",
   "execution_count": 2,
   "id": "25dd3d3f",
   "metadata": {},
   "outputs": [
    {
     "name": "stdout",
     "output_type": "stream",
     "text": [
      "[*********************100%***********************]  1 of 1 completed\n"
     ]
    },
    {
     "data": {
      "text/html": [
       "<div>\n",
       "<style scoped>\n",
       "    .dataframe tbody tr th:only-of-type {\n",
       "        vertical-align: middle;\n",
       "    }\n",
       "\n",
       "    .dataframe tbody tr th {\n",
       "        vertical-align: top;\n",
       "    }\n",
       "\n",
       "    .dataframe thead th {\n",
       "        text-align: right;\n",
       "    }\n",
       "</style>\n",
       "<table border=\"1\" class=\"dataframe\">\n",
       "  <thead>\n",
       "    <tr style=\"text-align: right;\">\n",
       "      <th></th>\n",
       "      <th>Open</th>\n",
       "      <th>High</th>\n",
       "      <th>Low</th>\n",
       "      <th>Close</th>\n",
       "      <th>Adj Close</th>\n",
       "      <th>Volume</th>\n",
       "    </tr>\n",
       "    <tr>\n",
       "      <th>Date</th>\n",
       "      <th></th>\n",
       "      <th></th>\n",
       "      <th></th>\n",
       "      <th></th>\n",
       "      <th></th>\n",
       "      <th></th>\n",
       "    </tr>\n",
       "  </thead>\n",
       "  <tbody>\n",
       "    <tr>\n",
       "      <th>2022-11-04</th>\n",
       "      <td>377.000000</td>\n",
       "      <td>378.869995</td>\n",
       "      <td>370.000000</td>\n",
       "      <td>376.350006</td>\n",
       "      <td>376.350006</td>\n",
       "      <td>103449600</td>\n",
       "    </tr>\n",
       "    <tr>\n",
       "      <th>2022-11-07</th>\n",
       "      <td>377.709991</td>\n",
       "      <td>380.570007</td>\n",
       "      <td>375.529999</td>\n",
       "      <td>379.950012</td>\n",
       "      <td>379.950012</td>\n",
       "      <td>68286900</td>\n",
       "    </tr>\n",
       "    <tr>\n",
       "      <th>2022-11-08</th>\n",
       "      <td>381.109985</td>\n",
       "      <td>385.119995</td>\n",
       "      <td>377.720001</td>\n",
       "      <td>382.000000</td>\n",
       "      <td>382.000000</td>\n",
       "      <td>84641100</td>\n",
       "    </tr>\n",
       "    <tr>\n",
       "      <th>2022-11-09</th>\n",
       "      <td>379.929993</td>\n",
       "      <td>381.140015</td>\n",
       "      <td>373.609985</td>\n",
       "      <td>374.130005</td>\n",
       "      <td>374.130005</td>\n",
       "      <td>78495500</td>\n",
       "    </tr>\n",
       "    <tr>\n",
       "      <th>2022-11-10</th>\n",
       "      <td>388.049988</td>\n",
       "      <td>395.040009</td>\n",
       "      <td>385.640015</td>\n",
       "      <td>394.690002</td>\n",
       "      <td>394.690002</td>\n",
       "      <td>141195500</td>\n",
       "    </tr>\n",
       "  </tbody>\n",
       "</table>\n",
       "</div>"
      ],
      "text/plain": [
       "                  Open        High         Low       Close   Adj Close  \\\n",
       "Date                                                                     \n",
       "2022-11-04  377.000000  378.869995  370.000000  376.350006  376.350006   \n",
       "2022-11-07  377.709991  380.570007  375.529999  379.950012  379.950012   \n",
       "2022-11-08  381.109985  385.119995  377.720001  382.000000  382.000000   \n",
       "2022-11-09  379.929993  381.140015  373.609985  374.130005  374.130005   \n",
       "2022-11-10  388.049988  395.040009  385.640015  394.690002  394.690002   \n",
       "\n",
       "               Volume  \n",
       "Date                   \n",
       "2022-11-04  103449600  \n",
       "2022-11-07   68286900  \n",
       "2022-11-08   84641100  \n",
       "2022-11-09   78495500  \n",
       "2022-11-10  141195500  "
      ]
     },
     "execution_count": 2,
     "metadata": {},
     "output_type": "execute_result"
    }
   ],
   "source": [
    "import pandas as pd\n",
    "import yfinance as yf\n",
    "\n",
    "# base dataset from local (max)\n",
    "db = pd.read_pickle('stock_max.data') \n",
    "\n",
    "# recent dataset (1y)\n",
    "ds = yf.download(\"SPY\", period=\"1y\")\n",
    "\n",
    "# dataset missing (+1y, -max)\n",
    "ds.index.difference(db.index)\n",
    "idx1 = ds.index\n",
    "idx2 = db.index\n",
    "dd = ds.loc[idx1.difference(idx2)]\n",
    "\n",
    "# complete dataset (max+ (+1y, -max))\n",
    "df = pd.concat([db, dd], axis=0)\n",
    "df.to_pickle('stock_all.data')\n",
    "df.tail()"
   ]
  },
  {
   "cell_type": "markdown",
   "id": "44645ef3",
   "metadata": {},
   "source": [
    "# Extract features (X), and calculate stock price changes (Y)"
   ]
  },
  {
   "cell_type": "code",
   "execution_count": 4,
   "id": "372d9962",
   "metadata": {
    "scrolled": true
   },
   "outputs": [
    {
     "data": {
      "text/html": [
       "<div>\n",
       "<style scoped>\n",
       "    .dataframe tbody tr th:only-of-type {\n",
       "        vertical-align: middle;\n",
       "    }\n",
       "\n",
       "    .dataframe tbody tr th {\n",
       "        vertical-align: top;\n",
       "    }\n",
       "\n",
       "    .dataframe thead th {\n",
       "        text-align: right;\n",
       "    }\n",
       "</style>\n",
       "<table border=\"1\" class=\"dataframe\">\n",
       "  <thead>\n",
       "    <tr style=\"text-align: right;\">\n",
       "      <th></th>\n",
       "      <th>Close</th>\n",
       "      <th>CloseOpen</th>\n",
       "      <th>CloseLow</th>\n",
       "      <th>CloseHigh</th>\n",
       "      <th>CloseBack</th>\n",
       "      <th>CloseF</th>\n",
       "    </tr>\n",
       "    <tr>\n",
       "      <th>Date</th>\n",
       "      <th></th>\n",
       "      <th></th>\n",
       "      <th></th>\n",
       "      <th></th>\n",
       "      <th></th>\n",
       "      <th></th>\n",
       "    </tr>\n",
       "  </thead>\n",
       "  <tbody>\n",
       "    <tr>\n",
       "      <th>2022-11-04</th>\n",
       "      <td>376.350006</td>\n",
       "      <td>0.998276</td>\n",
       "      <td>1.017162</td>\n",
       "      <td>0.993349</td>\n",
       "      <td>1.014393</td>\n",
       "      <td>1.009566</td>\n",
       "    </tr>\n",
       "    <tr>\n",
       "      <th>2022-11-07</th>\n",
       "      <td>379.950012</td>\n",
       "      <td>1.005931</td>\n",
       "      <td>1.011770</td>\n",
       "      <td>0.998371</td>\n",
       "      <td>1.009566</td>\n",
       "      <td>1.005395</td>\n",
       "    </tr>\n",
       "    <tr>\n",
       "      <th>2022-11-08</th>\n",
       "      <td>382.000000</td>\n",
       "      <td>1.002335</td>\n",
       "      <td>1.011331</td>\n",
       "      <td>0.991899</td>\n",
       "      <td>1.005395</td>\n",
       "      <td>0.979398</td>\n",
       "    </tr>\n",
       "    <tr>\n",
       "      <th>2022-11-09</th>\n",
       "      <td>374.130005</td>\n",
       "      <td>0.984734</td>\n",
       "      <td>1.001392</td>\n",
       "      <td>0.981608</td>\n",
       "      <td>0.979398</td>\n",
       "      <td>1.054954</td>\n",
       "    </tr>\n",
       "    <tr>\n",
       "      <th>2022-11-10</th>\n",
       "      <td>394.690002</td>\n",
       "      <td>1.017111</td>\n",
       "      <td>1.023467</td>\n",
       "      <td>0.999114</td>\n",
       "      <td>1.054954</td>\n",
       "      <td>NaN</td>\n",
       "    </tr>\n",
       "  </tbody>\n",
       "</table>\n",
       "</div>"
      ],
      "text/plain": [
       "                 Close  CloseOpen  CloseLow  CloseHigh  CloseBack    CloseF\n",
       "Date                                                                       \n",
       "2022-11-04  376.350006   0.998276  1.017162   0.993349   1.014393  1.009566\n",
       "2022-11-07  379.950012   1.005931  1.011770   0.998371   1.009566  1.005395\n",
       "2022-11-08  382.000000   1.002335  1.011331   0.991899   1.005395  0.979398\n",
       "2022-11-09  374.130005   0.984734  1.001392   0.981608   0.979398  1.054954\n",
       "2022-11-10  394.690002   1.017111  1.023467   0.999114   1.054954       NaN"
      ]
     },
     "execution_count": 4,
     "metadata": {},
     "output_type": "execute_result"
    }
   ],
   "source": [
    "import pandas as pd\n",
    "\n",
    "df = pd.read_pickle('stock_all.data') \n",
    "\n",
    "# using previous day's value if missing\n",
    "df.ffill(inplace=True) \n",
    "\n",
    "# Candlestick: Body and Wicks (Tails)\n",
    "df['CloseOpen'] = df['Close']/df['Open']\n",
    "df['CloseLow'] = df['Close']/df['Low']\n",
    "df['CloseHigh'] = df['Close']/df['High']\n",
    "df['CloseBack'] = df['Close']/df['Close'].shift(1)\n",
    "df.fillna(1.0, inplace=True)\n",
    "\n",
    "df['CloseF'] = df['Close'].shift(-1)/df['Close']\n",
    "\n",
    "df[['Close','CloseOpen','CloseLow','CloseHigh','CloseBack','CloseF']].tail()"
   ]
  },
  {
   "cell_type": "markdown",
   "id": "373be68b",
   "metadata": {},
   "source": [
    "# Visualize Most Recent Stock Daily Price Changes"
   ]
  },
  {
   "cell_type": "code",
   "execution_count": 5,
   "id": "b2beab87",
   "metadata": {},
   "outputs": [
    {
     "data": {
      "image/png": "[encoded data removed]",
      "text/plain": [
       "<Figure size 720x288 with 1 Axes>"
      ]
     },
     "metadata": {
      "needs_background": "light"
     },
     "output_type": "display_data"
    }
   ],
   "source": [
    "import numpy as np\n",
    "import matplotlib.pyplot as plt\n",
    "\n",
    "fig, ax = plt.subplots(figsize=(10, 4))\n",
    "\n",
    "plt.title(\"Daily Close Price Change Ratio (Forward)\")\n",
    "plt.xlabel(\"Time Step\")\n",
    "plt.ylabel(\"Daily Close Price Change (%)\")\n",
    "\n",
    "plt.grid(True)\n",
    "\n",
    "d = 10\n",
    "xs = np.arange(0,d,1)\n",
    "y = df['CloseF'].to_numpy()\n",
    "ys = y[y.shape[0]-d:y.shape[0]]\n",
    "\n",
    "plt.plot(xs,ys,'bo-',alpha=0.5, label = 'Actual')\n",
    "\n",
    "# zip joins x and y coordinates in pairs\n",
    "for x,y in zip(xs,ys):\n",
    "    label = \"{:.4f}\".format(y)\n",
    "    plt.annotate(label, # this is the text\n",
    "                 (x,y), # these are the coordinates to position the label\n",
    "                 textcoords=\"offset points\", # how to position the text\n",
    "                 xytext=(0,8), # distance from text to points (x,y)\n",
    "                 ha='center') # horizontal alignment can be left, right or center\n",
    "\n",
    "plt.legend()    \n",
    "plt.show()"
   ]
  },
  {
   "cell_type": "markdown",
   "id": "7eb22ed7",
   "metadata": {},
   "source": [
    "# Create Datasets for Training and Testing"
   ]
  },
  {
   "cell_type": "code",
   "execution_count": 7,
   "id": "0904b590",
   "metadata": {},
   "outputs": [
    {
     "data": {
      "text/plain": [
       "(6751, 1, 4)"
      ]
     },
     "execution_count": 7,
     "metadata": {},
     "output_type": "execute_result"
    }
   ],
   "source": [
    "import os\n",
    "import tensorflow as tf\n",
    "from sklearn.preprocessing import MinMaxScaler\n",
    "\n",
    "# ensure results reproducible\n",
    "seed_value= 0\n",
    "os.environ['PYTHONHASHSEED']=str(seed_value)\n",
    "np.random.seed(seed_value)\n",
    "tf.random.set_seed(seed_value)\n",
    "\n",
    "# data sets for inputs and outputs\n",
    "x = df[['CloseOpen','CloseLow','CloseHigh','CloseBack']].to_numpy()\n",
    "y = df[['CloseF']].to_numpy()\n",
    "\n",
    "# split whole set into train and test\n",
    "trainX, testX = np.split(x, [int(len(x)*0.9)])\n",
    "trainY, testY = np.split(y, [int(len(y)*0.9)])\n",
    "\n",
    "# normalize inputs\n",
    "scaler = MinMaxScaler(feature_range=(0, 1))\n",
    "trainX = scaler.fit_transform(trainX)\n",
    "testX = scaler.fit_transform(testX)\n",
    "\n",
    "# LSTM Input Shape: 3D tensor with \n",
    "# shape (batch_size, timesteps, input_dim)\n",
    "# reshape data to extend dimension\n",
    "trainX = np.reshape(trainX, (trainX.shape[0], 1, trainX.shape[1]))\n",
    "testX = np.reshape(testX, (testX.shape[0], 1, testX.shape[1]))\n",
    "\n",
    "trainX.shape"
   ]
  },
  {
   "cell_type": "markdown",
   "id": "37abb0f7",
   "metadata": {},
   "source": [
    "# Create Keras-LSTM Model"
   ]
  },
  {
   "cell_type": "code",
   "execution_count": 8,
   "id": "93becaab",
   "metadata": {},
   "outputs": [
    {
     "name": "stdout",
     "output_type": "stream",
     "text": [
      "Model: \"sequential\"\n",
      "_________________________________________________________________\n",
      " Layer (type)                Output Shape              Param #   \n",
      "=================================================================\n",
      " lstm (LSTM)                 (None, 2)                 56        \n",
      "                                                                 \n",
      " dense (Dense)               (None, 1)                 3         \n",
      "                                                                 \n",
      "=================================================================\n",
      "Total params: 59\n",
      "Trainable params: 59\n",
      "Non-trainable params: 0\n",
      "_________________________________________________________________\n"
     ]
    }
   ],
   "source": [
    "from tensorflow.keras.models import Sequential\n",
    "from tensorflow.keras.layers import LSTM, Dense\n",
    "\n",
    "model = Sequential()\n",
    "model.add(LSTM(2, input_shape=(1, 4)))\n",
    "model.add(Dense(1))\n",
    "\n",
    "model.summary()"
   ]
  },
  {
   "cell_type": "markdown",
   "id": "5da5dd47",
   "metadata": {},
   "source": [
    "# Train LSTM Model"
   ]
  },
  {
   "cell_type": "code",
   "execution_count": 9,
   "id": "e75e665c",
   "metadata": {
    "scrolled": true
   },
   "outputs": [
    {
     "name": "stdout",
     "output_type": "stream",
     "text": [
      "Epoch 1/40\n",
      "1080/1080 [==============================] - 7s 4ms/step - loss: 0.0990 - val_loss: 9.2360e-04\n",
      "Epoch 2/40\n",
      "1080/1080 [==============================] - 4s 4ms/step - loss: 0.0018 - val_loss: 7.0110e-04\n",
      "Epoch 3/40\n",
      "1080/1080 [==============================] - 4s 3ms/step - loss: 0.0013 - val_loss: 4.8652e-04\n",
      "Epoch 4/40\n",
      "1080/1080 [==============================] - 4s 4ms/step - loss: 9.3366e-04 - val_loss: 4.0527e-04\n",
      "Epoch 5/40\n",
      "1080/1080 [==============================] - 4s 4ms/step - loss: 6.5198e-04 - val_loss: 2.3388e-04\n",
      "Epoch 6/40\n",
      "1080/1080 [==============================] - 4s 3ms/step - loss: 4.4057e-04 - val_loss: 1.4942e-04\n",
      "Epoch 7/40\n",
      "1080/1080 [==============================] - 4s 3ms/step - loss: 2.9711e-04 - val_loss: 1.1510e-04\n",
      "Epoch 8/40\n",
      "1080/1080 [==============================] - 4s 3ms/step - loss: 2.1196e-04 - val_loss: 9.5582e-05\n",
      "Epoch 9/40\n",
      "1080/1080 [==============================] - 4s 3ms/step - loss: 1.7243e-04 - val_loss: 8.4217e-05\n",
      "Epoch 10/40\n",
      "1080/1080 [==============================] - 4s 3ms/step - loss: 1.6182e-04 - val_loss: 8.1087e-05\n",
      "Epoch 11/40\n",
      "1080/1080 [==============================] - 4s 3ms/step - loss: 1.6076e-04 - val_loss: 1.0292e-04\n",
      "Epoch 12/40\n",
      "1080/1080 [==============================] - 4s 3ms/step - loss: 1.5867e-04 - val_loss: 7.9579e-05\n",
      "Epoch 13/40\n",
      "1080/1080 [==============================] - 4s 3ms/step - loss: 1.5701e-04 - val_loss: 8.7251e-05\n",
      "Epoch 14/40\n",
      "1080/1080 [==============================] - 4s 3ms/step - loss: 1.5632e-04 - val_loss: 7.7362e-05\n",
      "Epoch 15/40\n",
      "1080/1080 [==============================] - 4s 3ms/step - loss: 1.5670e-04 - val_loss: 8.2917e-05\n",
      "Epoch 16/40\n",
      "1080/1080 [==============================] - 4s 3ms/step - loss: 1.5487e-04 - val_loss: 7.6908e-05\n",
      "Epoch 17/40\n",
      "1080/1080 [==============================] - 4s 3ms/step - loss: 1.5580e-04 - val_loss: 7.4809e-05\n",
      "Epoch 18/40\n",
      "1080/1080 [==============================] - 4s 4ms/step - loss: 1.5543e-04 - val_loss: 9.0954e-05\n",
      "Epoch 19/40\n",
      "1080/1080 [==============================] - 4s 4ms/step - loss: 1.5458e-04 - val_loss: 7.6602e-05\n",
      "Epoch 20/40\n",
      "1080/1080 [==============================] - 5s 5ms/step - loss: 1.5503e-04 - val_loss: 1.5173e-04\n",
      "Epoch 21/40\n",
      "1080/1080 [==============================] - 5s 5ms/step - loss: 1.5563e-04 - val_loss: 7.5686e-05\n",
      "Epoch 22/40\n",
      "1080/1080 [==============================] - 4s 4ms/step - loss: 1.5320e-04 - val_loss: 8.7222e-05\n",
      "Epoch 23/40\n",
      "1080/1080 [==============================] - 4s 3ms/step - loss: 1.5297e-04 - val_loss: 7.4750e-05\n",
      "Epoch 24/40\n",
      "1080/1080 [==============================] - 4s 4ms/step - loss: 1.5226e-04 - val_loss: 7.5980e-05\n",
      "Epoch 25/40\n",
      "1080/1080 [==============================] - 5s 4ms/step - loss: 1.5384e-04 - val_loss: 8.7324e-05\n",
      "Epoch 26/40\n",
      "1080/1080 [==============================] - 4s 4ms/step - loss: 1.5226e-04 - val_loss: 8.0445e-05\n",
      "Epoch 27/40\n",
      "1080/1080 [==============================] - 4s 4ms/step - loss: 1.5231e-04 - val_loss: 7.3911e-05\n",
      "Epoch 28/40\n",
      "1080/1080 [==============================] - 4s 4ms/step - loss: 1.5066e-04 - val_loss: 7.4823e-05\n",
      "Epoch 29/40\n",
      "1080/1080 [==============================] - 4s 4ms/step - loss: 1.5143e-04 - val_loss: 7.4754e-05\n",
      "Epoch 30/40\n",
      "1080/1080 [==============================] - 4s 3ms/step - loss: 1.5320e-04 - val_loss: 7.7512e-05\n",
      "Epoch 31/40\n",
      "1080/1080 [==============================] - 4s 4ms/step - loss: 1.5342e-04 - val_loss: 8.4197e-05\n",
      "Epoch 32/40\n",
      "1080/1080 [==============================] - 4s 4ms/step - loss: 1.5010e-04 - val_loss: 7.9207e-05\n",
      "Epoch 33/40\n",
      "1080/1080 [==============================] - 4s 4ms/step - loss: 1.5159e-04 - val_loss: 7.6260e-05\n",
      "Epoch 34/40\n",
      "1080/1080 [==============================] - 4s 4ms/step - loss: 1.5211e-04 - val_loss: 9.1377e-05\n",
      "Epoch 35/40\n",
      "1080/1080 [==============================] - 4s 4ms/step - loss: 1.5264e-04 - val_loss: 7.5325e-05\n",
      "Epoch 36/40\n",
      "1080/1080 [==============================] - 4s 4ms/step - loss: 1.5217e-04 - val_loss: 7.8067e-05\n",
      "Epoch 37/40\n",
      "1080/1080 [==============================] - 4s 4ms/step - loss: 1.5173e-04 - val_loss: 8.7603e-05\n",
      "Epoch 38/40\n",
      "1080/1080 [==============================] - 4s 4ms/step - loss: 1.5087e-04 - val_loss: 8.1631e-05\n",
      "Epoch 39/40\n",
      "1080/1080 [==============================] - 4s 4ms/step - loss: 1.5231e-04 - val_loss: 8.0051e-05\n",
      "Epoch 40/40\n",
      "1080/1080 [==============================] - 4s 4ms/step - loss: 1.4940e-04 - val_loss: 7.4613e-05\n"
     ]
    }
   ],
   "source": [
    "model.compile(\n",
    "    loss='mse',\n",
    "    optimizer='adam') \n",
    "\n",
    "hist = model.fit(\n",
    "    trainX, \n",
    "    trainY, \n",
    "    validation_split = 0.2, \n",
    "    epochs=40, \n",
    "    batch_size=5, \n",
    "    verbose=1)\n",
    "\n",
    "# model.save('price_change_ratio.h5')"
   ]
  },
  {
   "cell_type": "markdown",
   "id": "5446503b",
   "metadata": {},
   "source": [
    "# Visualize Training Loss and Validation Loss"
   ]
  },
  {
   "cell_type": "code",
   "execution_count": 10,
   "id": "a6fcaf8c",
   "metadata": {
    "scrolled": true
   },
   "outputs": [
    {
     "data": {
      "image/png": "[encoded data removed]",
      "text/plain": [
       "<Figure size 432x288 with 1 Axes>"
      ]
     },
     "metadata": {
      "needs_background": "light"
     },
     "output_type": "display_data"
    }
   ],
   "source": [
    "plt.plot(hist.history['loss'])\n",
    "plt.plot(hist.history['val_loss'])\n",
    "plt.title('model loss (units = 2)')\n",
    "plt.ylabel('loss')\n",
    "plt.xlabel('epoch')\n",
    "plt.legend(['train', 'val'], loc='upper right')\n",
    "plt.show()"
   ]
  },
  {
   "cell_type": "markdown",
   "id": "2398603b",
   "metadata": {},
   "source": [
    "# Visualize the Predicted and Actual Stock Daily Price Changes"
   ]
  },
  {
   "cell_type": "code",
   "execution_count": 11,
   "id": "20f338d0",
   "metadata": {},
   "outputs": [
    {
     "data": {
      "image/png": "[encoded data removed]",
      "text/plain": [
       "<Figure size 720x288 with 1 Axes>"
      ]
     },
     "metadata": {
      "needs_background": "light"
     },
     "output_type": "display_data"
    }
   ],
   "source": [
    "from keras.models import load_model\n",
    "from matplotlib.ticker import MultipleLocator\n",
    "\n",
    "# model = load_model('price_change_ratio.h5')\n",
    "\n",
    "fig, ax = plt.subplots(figsize=(10, 4))\n",
    "\n",
    "plt.title(\"Daily Close Price Change Ratio\")\n",
    "plt.xlabel(\"Time Step\")\n",
    "plt.ylabel(\"Daily Close Price Change Ratio (%)\")\n",
    "\n",
    "d = 10\n",
    "ax.set_xlim(0,d)\n",
    "\n",
    "ax.xaxis.set_major_locator(MultipleLocator(1))\n",
    "ax.yaxis.set_major_locator(MultipleLocator(0.01))\n",
    "\n",
    "xs = np.arange(0,d,1)\n",
    "y1 = testY.transpose()\n",
    "ys1 = y1[0][y1.size-d:y1.size]\n",
    "\n",
    "y2 = model.predict(testX).transpose()\n",
    "ys2 = y2[0][y2.size-d:y2.size]\n",
    "\n",
    "plt.plot(xs,ys1.transpose(),'bo-',alpha=0.5,label='Actural')\n",
    "plt.plot(xs,ys2,'ro-',alpha=0.5,label='Predicted')\n",
    "\n",
    "# zip joins x and y coordinates in pairs\n",
    "for x,y in zip(xs,ys1):\n",
    "    label = \"{:.4f}\".format(y)\n",
    "    plt.annotate(label,\n",
    "                 (x,y),\n",
    "                 textcoords=\"offset points\",\n",
    "                 xytext=(0,8),\n",
    "                 ha='center')\n",
    "\n",
    "for x,y in zip(xs,ys2):\n",
    "    label = \"{:.4f}\".format(y)\n",
    "    plt.annotate(label,\n",
    "                 (x,y),\n",
    "                 textcoords=\"offset points\",\n",
    "                 xytext=(0,8),\n",
    "                 ha='center')\n",
    "\n",
    "plt.legend()\n",
    "plt.grid(True)\n",
    "plt.show()"
   ]
  },
  {
   "cell_type": "code",
   "execution_count": null,
   "id": "24200e12",
   "metadata": {},
   "outputs": [],
   "source": []
  }
 ],
 "metadata": {
  "kernelspec": {
   "display_name": "Python 3 (ipykernel)",
   "language": "python",
   "name": "python3"
  },
  "language_info": {
   "codemirror_mode": {
    "name": "ipython",
    "version": 3
   },
   "file_extension": ".py",
   "mimetype": "text/x-python",
   "name": "python",
   "nbconvert_exporter": "python",
   "pygments_lexer": "ipython3",
   "version": "3.9.7"
  }
 },
 "nbformat": 4,
 "nbformat_minor": 5
}
